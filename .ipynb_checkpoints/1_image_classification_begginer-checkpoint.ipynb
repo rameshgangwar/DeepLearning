{
 "cells": [
  {
   "cell_type": "markdown",
   "id": "f57473af",
   "metadata": {},
   "source": [
    "# Problem\n",
    "\n",
    "* Image classification.\n",
    "* Train and evaluate the model.\n",
    "\n",
    "# Notes\n",
    "* Time taken on My CPU = 3s per epoch\n",
    "* Time taken on Colab CPU = 4s per epoch"
   ]
  },
  {
   "cell_type": "code",
   "execution_count": 36,
   "id": "eb57ee30",
   "metadata": {},
   "outputs": [
    {
     "data": {
      "text/plain": [
       "'2.3.0'"
      ]
     },
     "execution_count": 36,
     "metadata": {},
     "output_type": "execute_result"
    }
   ],
   "source": [
    "import tensorflow as tf\n",
    "tf.__version__"
   ]
  },
  {
   "cell_type": "code",
   "execution_count": 37,
   "id": "efd26de0",
   "metadata": {},
   "outputs": [],
   "source": [
    "# Load data\n",
    "\n",
    "mnist = tf.keras.datasets.mnist\n",
    "\n",
    "(x_train, y_train), (x_test, y_test) = mnist.load_data()\n",
    "x_train, x_test = x_train / 255.0, x_test / 255.0"
   ]
  },
  {
   "cell_type": "code",
   "execution_count": 38,
   "id": "08e012fd",
   "metadata": {},
   "outputs": [
    {
     "name": "stdout",
     "output_type": "stream",
     "text": [
      "train data (60000, 28, 28)\n",
      "Test Data (10000, 28, 28)\n",
      "Train Labels (60000,)\n",
      "Test Labels (10000,)\n"
     ]
    }
   ],
   "source": [
    "# look at data size and shape\n",
    "\n",
    "print('train data', x_train.shape)\n",
    "print('Test Data', x_test.shape)\n",
    "print('Train Labels', y_train.shape)\n",
    "print('Test Labels', y_test.shape)"
   ]
  },
  {
   "cell_type": "code",
   "execution_count": 39,
   "id": "75e38e8d",
   "metadata": {},
   "outputs": [],
   "source": [
    "# Build the network\n",
    "\n",
    "model = tf.keras.models.Sequential([tf.keras.layers.Flatten(input_shape=(28, 28)),\n",
    "                                    tf.keras.layers.Dense(128, activation='relu'),\n",
    "                                    tf.keras.layers.Dropout(0.2),\n",
    "                                    tf.keras.layers.Dense(10)\n",
    "                                   ])"
   ]
  },
  {
   "cell_type": "code",
   "execution_count": 40,
   "id": "cc40c239",
   "metadata": {},
   "outputs": [
    {
     "data": {
      "text/plain": [
       "array([[-0.08095239, -0.02484661,  0.3284162 , -0.8759428 , -0.04191743,\n",
       "         0.87206817,  0.6160684 , -0.03427413,  0.3419309 ,  0.56077343]],\n",
       "      dtype=float32)"
      ]
     },
     "execution_count": 40,
     "metadata": {},
     "output_type": "execute_result"
    }
   ],
   "source": [
    "# Let's apply the model to some example. this will return a array of numbers. These numbers are some sort of score for each\n",
    "# class and you can use this array to calculate probability of a class for some example\n",
    "\n",
    "predictions = model(x_train[:1]).numpy()\n",
    "predictions"
   ]
  },
  {
   "cell_type": "code",
   "execution_count": 41,
   "id": "eace77b3",
   "metadata": {},
   "outputs": [
    {
     "data": {
      "text/plain": [
       "<tf.Tensor: shape=(1, 10), dtype=float32, numpy=\n",
       "array([[0.0707706 , 0.07485474, 0.10657109, 0.03195898, 0.07358775,\n",
       "        0.1835458 , 0.14209054, 0.07415237, 0.10802114, 0.13444692]],\n",
       "      dtype=float32)>"
      ]
     },
     "execution_count": 41,
     "metadata": {},
     "output_type": "execute_result"
    }
   ],
   "source": [
    "# Convert the above score array into probabilities.\n",
    "tf.nn.softmax(predictions)"
   ]
  },
  {
   "cell_type": "code",
   "execution_count": 42,
   "id": "09fc2ca5",
   "metadata": {},
   "outputs": [
    {
     "data": {
      "text/plain": [
       "1.695291"
      ]
     },
     "execution_count": 42,
     "metadata": {},
     "output_type": "execute_result"
    }
   ],
   "source": [
    "# Choose loss functions and try calculating loss for some example\n",
    "# [Disscuss about this loss functions here.]\n",
    "loss_fn = tf.keras.losses.SparseCategoricalCrossentropy(from_logits=True)\n",
    "loss_fn(y_train[:1], predictions).numpy()"
   ]
  },
  {
   "cell_type": "code",
   "execution_count": 43,
   "id": "21f1c2ef",
   "metadata": {},
   "outputs": [],
   "source": [
    "# Let's compile the model\n",
    "model.compile(optimizer='adam',\n",
    "             loss=loss_fn,\n",
    "             metrics=['accuracy'])"
   ]
  },
  {
   "cell_type": "code",
   "execution_count": 44,
   "id": "63cd8123",
   "metadata": {},
   "outputs": [
    {
     "name": "stdout",
     "output_type": "stream",
     "text": [
      "Epoch 1/5\n",
      "1875/1875 [==============================] - 3s 2ms/step - loss: 0.2965 - accuracy: 0.9138\n",
      "Epoch 2/5\n",
      "1875/1875 [==============================] - 3s 2ms/step - loss: 0.1466 - accuracy: 0.9569\n",
      "Epoch 3/5\n",
      "1875/1875 [==============================] - 3s 2ms/step - loss: 0.1092 - accuracy: 0.9674\n",
      "Epoch 4/5\n",
      "1875/1875 [==============================] - 3s 2ms/step - loss: 0.0899 - accuracy: 0.9732\n",
      "Epoch 5/5\n",
      "1875/1875 [==============================] - 3s 2ms/step - loss: 0.0756 - accuracy: 0.9765\n"
     ]
    },
    {
     "data": {
      "text/plain": [
       "<tensorflow.python.keras.callbacks.History at 0x2464f0bdbb0>"
      ]
     },
     "execution_count": 44,
     "metadata": {},
     "output_type": "execute_result"
    }
   ],
   "source": [
    "model.fit(x_train, y_train, epochs=5)"
   ]
  },
  {
   "cell_type": "code",
   "execution_count": 45,
   "id": "78f61573",
   "metadata": {},
   "outputs": [
    {
     "name": "stdout",
     "output_type": "stream",
     "text": [
      "313/313 - 0s - loss: 0.0753 - accuracy: 0.9756\n"
     ]
    },
    {
     "data": {
      "text/plain": [
       "[0.07526031136512756, 0.975600004196167]"
      ]
     },
     "execution_count": 45,
     "metadata": {},
     "output_type": "execute_result"
    }
   ],
   "source": [
    "model.evaluate(x_test, y_test, verbose=2)"
   ]
  },
  {
   "cell_type": "code",
   "execution_count": null,
   "id": "6cf2e4e4",
   "metadata": {},
   "outputs": [],
   "source": []
  }
 ],
 "metadata": {
  "kernelspec": {
   "display_name": "Python 3",
   "language": "python",
   "name": "python3"
  },
  "language_info": {
   "codemirror_mode": {
    "name": "ipython",
    "version": 3
   },
   "file_extension": ".py",
   "mimetype": "text/x-python",
   "name": "python",
   "nbconvert_exporter": "python",
   "pygments_lexer": "ipython3",
   "version": "3.8.8"
  }
 },
 "nbformat": 4,
 "nbformat_minor": 5
}

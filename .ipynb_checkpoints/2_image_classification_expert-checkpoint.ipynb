{
 "cells": [
  {
   "cell_type": "markdown",
   "id": "04db21ed",
   "metadata": {},
   "source": [
    "# Problem\n",
    "\n",
    "# Note"
   ]
  },
  {
   "cell_type": "code",
   "execution_count": 6,
   "id": "a2f91e65",
   "metadata": {},
   "outputs": [],
   "source": [
    "# Import libraries\n",
    "import tensorflow as tf\n",
    "\n",
    "\n",
    "# Load and prepare the mnist data\n",
    "mnist = tf.keras.datasets.mnist\n",
    "(x_train, y_train), (x_test, y_test) = mnist.load_data()\n",
    "\n",
    "x_train, y_train = x_train/255.0, y_train/255.0\n",
    "\n",
    "#Add a channels dimension\n",
    "x_train = x_train[..., tf.newaxis].astype('float32')\n",
    "x_test = x_test[..., tf.newaxis].astype('float32')"
   ]
  },
  {
   "cell_type": "code",
   "execution_count": 7,
   "id": "0fe3a1fe",
   "metadata": {},
   "outputs": [
    {
     "name": "stdout",
     "output_type": "stream",
     "text": [
      "x_train shape (60000, 28, 28, 1)\n",
      "x_test shape (10000, 28, 28, 1)\n",
      "y_train shape (60000,)\n",
      "y_test shape (10000,)\n"
     ]
    }
   ],
   "source": [
    "print('x_train shape', x_train.shape)\n",
    "print('x_test shape', x_test.shape)\n",
    "print('y_train shape', y_train.shape)\n",
    "print('y_test shape', y_test.shape)"
   ]
  },
  {
   "cell_type": "code",
   "execution_count": 9,
   "id": "2bc141c7",
   "metadata": {},
   "outputs": [],
   "source": [
    "# Batch and shuffle the dataset\n",
    "\n",
    "train_ds = tf.data.Dataset.from_tensor_slices((x_train, y_train)).shuffle(10000).batch(32)\n",
    "test_ds = tf.data.Dataset.from_tensor_slices((x_test, y_test)).batch(32)"
   ]
  },
  {
   "cell_type": "code",
   "execution_count": null,
   "id": "7f72aeee",
   "metadata": {},
   "outputs": [],
   "source": [
    "# Build Model\n",
    "\n"
   ]
  }
 ],
 "metadata": {
  "kernelspec": {
   "display_name": "Python 3",
   "language": "python",
   "name": "python3"
  },
  "language_info": {
   "codemirror_mode": {
    "name": "ipython",
    "version": 3
   },
   "file_extension": ".py",
   "mimetype": "text/x-python",
   "name": "python",
   "nbconvert_exporter": "python",
   "pygments_lexer": "ipython3",
   "version": "3.8.8"
  }
 },
 "nbformat": 4,
 "nbformat_minor": 5
}

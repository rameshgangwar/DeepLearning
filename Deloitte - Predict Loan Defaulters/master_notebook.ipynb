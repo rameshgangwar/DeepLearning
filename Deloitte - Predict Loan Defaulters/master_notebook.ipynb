{
  "nbformat": 4,
  "nbformat_minor": 0,
  "metadata": {
    "colab": {
      "name": "deloitte_presents_machine_learning_challenge_predict_loan_defaulters.ipynb",
      "provenance": [],
      "collapsed_sections": []
    },
    "kernelspec": {
      "name": "python3",
      "display_name": "Python 3"
    },
    "language_info": {
      "name": "python"
    }
  },
  "cells": [
    {
      "cell_type": "code",
      "metadata": {
        "colab": {
          "base_uri": "https://localhost:8080/"
        },
        "id": "0oAZlVr_277J",
        "outputId": "2a8750cf-b3b9-448f-f8eb-052bccc0c882"
      },
      "source": [
        "import pandas as pd\n",
        "import numpy as np\n",
        "\n",
        "print('Pandas version: {}'.format(pd.__version__))\n",
        "print('Numpy version: {}'.format(np.__version__))"
      ],
      "execution_count": 1,
      "outputs": [
        {
          "output_type": "stream",
          "name": "stdout",
          "text": [
            "Pandas version: 1.1.5\n",
            "Numpy version: 1.19.5\n"
          ]
        }
      ]
    }
  ]
}
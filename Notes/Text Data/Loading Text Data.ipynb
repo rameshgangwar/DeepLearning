{
 "cells": [
  {
   "cell_type": "markdown",
   "source": "# Loading Text Data using Keras Utility functions.",
   "metadata": {
    "cell_id": "50793aca-021a-4f42-a4d2-9901b3bb13f4",
    "deepnote_cell_type": "markdown"
   }
  },
  {
   "cell_type": "code",
   "metadata": {
    "cell_id": "00001-0589de1c-2ee3-4da0-a51d-0aa734b94f48",
    "deepnote_to_be_reexecuted": false,
    "source_hash": "3545447c",
    "execution_start": 1646036831183,
    "execution_millis": 8,
    "deepnote_cell_type": "code"
   },
   "source": "import tensorflow as tf\nimport numpy as np\n\nimport os\nimport pathlib\n\nfrom tensorflow.keras.layers.experimental.preprocessing import TextVectorization\n\nprint('Tensorflow version: {}'.format(tf.__version__))",
   "execution_count": 20,
   "outputs": [
    {
     "name": "stdout",
     "text": "Tensorflow version: 2.4.1\n",
     "output_type": "stream"
    }
   ]
  },
  {
   "cell_type": "markdown",
   "source": "## Downloading Dataset using Keras Utility\n",
   "metadata": {
    "cell_id": "27cc75b5-0db4-4876-86d3-fa4d88d1dd0e",
    "tags": [],
    "deepnote_cell_type": "markdown"
   }
  },
  {
   "cell_type": "code",
   "metadata": {
    "cell_id": "00002-ab680956-7e78-45ff-9537-0a66392dd78f",
    "deepnote_to_be_reexecuted": false,
    "execution_millis": 68582,
    "execution_start": 1646036354095,
    "source_hash": "6bbbff79",
    "deepnote_cell_type": "code"
   },
   "source": "url = 'https://storage.googleapis.com/download.tensorflow.org/data/stack_overflow_16k.tar.gz'\ncache_dir = '/work/DeepLearning/Notes/datasets'\n\ndataset_dir = tf.keras.utils.get_file(\n    origin=url,\n    fname='stackoverflow_ds',\n    cache_dir=cache_dir,\n    cache_subdir='',\n    extract=True\n)\n\nprint('Size of the downloaded file: {} MB'.format(int(os.path.getsize(dataset_dir)/(1024*1024))))\nos.remove(dataset_dir)\ndataset_dir = pathlib.Path(dataset_dir).parent\nprint(os.listdir(dataset_dir))",
   "execution_count": 2,
   "outputs": [
    {
     "name": "stdout",
     "text": "Downloading data from https://storage.googleapis.com/download.tensorflow.org/data/stack_overflow_16k.tar.gz\n6053888/6053168 [==============================] - 0s 0us/step\nSize of the downloaded file: 5 MB\n['README.md', 'test', 'train']\n",
     "output_type": "stream"
    }
   ]
  },
  {
   "cell_type": "code",
   "metadata": {
    "cell_id": "00003-6b816554-39f6-44c3-b4a0-e050241d0ffa",
    "deepnote_to_be_reexecuted": false,
    "source_hash": "3ca3dc53",
    "execution_start": 1646036428269,
    "execution_millis": 36,
    "deepnote_cell_type": "code"
   },
   "source": "# Get the dataset directory and it's content.\n\nds_dir = dataset_dir\n\nprint('Content of train directory: ')\ntrain_dir = os.path.join(ds_dir, 'train')\nprint(os.listdir(train_dir))\n\nprint('Content of test directory: ')\ntest_dir = os.path.join(ds_dir, 'test')\nprint(os.listdir(test_dir))",
   "execution_count": 3,
   "outputs": [
    {
     "name": "stdout",
     "text": "Content of train directory: \n['java', 'python', 'csharp', 'javascript']\nContent of test directory: \n['javascript', 'java', 'csharp', 'python']\n",
     "output_type": "stream"
    }
   ]
  },
  {
   "cell_type": "code",
   "metadata": {
    "cell_id": "00004-106d89f2-19db-4b5c-8343-521b2f549c43",
    "deepnote_to_be_reexecuted": false,
    "source_hash": "e72d99e1",
    "execution_start": 1646036433202,
    "execution_millis": 10,
    "deepnote_cell_type": "code"
   },
   "source": "# Let's read the content of a file.\n\nfname = train_dir + '/python/1755.txt'\nfile = open(fname, \"r\")\nprint(file.read())",
   "execution_count": 4,
   "outputs": [
    {
     "name": "stdout",
     "text": "why does this blank program print true x=true.def stupid():.    x=false.stupid().print x\n\n",
     "output_type": "stream"
    }
   ]
  },
  {
   "cell_type": "markdown",
   "source": "## Loading the off disk\n\nWe'll use keras utility function for this purpose. This function will return tf.data.Dataset. \nFor more information, look at the \"tf.data.Dataset\" file.",
   "metadata": {
    "cell_id": "00005-7635cdbb-879d-4e2b-9eaf-8ed71daa0caf",
    "deepnote_cell_type": "markdown"
   }
  },
  {
   "cell_type": "code",
   "metadata": {
    "cell_id": "00006-0e521769-da68-4f7b-b050-837e3757a01b",
    "deepnote_to_be_reexecuted": false,
    "source_hash": "2483d35d",
    "execution_start": 1646036438163,
    "execution_millis": 300,
    "deepnote_cell_type": "code"
   },
   "source": "# Load the dataset off disk.\n# for the current purpose, we'll use tf.keras.utils.text_dataset_from_directory. this will return tf.data.Dataset object.\n# This function can also be used to divide the dataset into train and test dataset.\n\nbatch_size = 32\nseed = 42\n\n# Create traing dataset\nraw_train_ds = tf.keras.preprocessing.text_dataset_from_directory(\n    train_dir,\n    batch_size=batch_size,\n    validation_split=0.2,\n    subset='training',\n    seed=seed\n)",
   "execution_count": 5,
   "outputs": [
    {
     "name": "stdout",
     "text": "Found 8000 files belonging to 4 classes.\nUsing 6400 files for training.\n",
     "output_type": "stream"
    }
   ]
  },
  {
   "cell_type": "code",
   "metadata": {
    "cell_id": "00008-6549ba8a-2a84-43d1-82ce-65c3e7d2b156",
    "deepnote_to_be_reexecuted": false,
    "source_hash": "b7f8bd4b",
    "execution_start": 1646036442874,
    "execution_millis": 354,
    "deepnote_cell_type": "code"
   },
   "source": "# Create validation dataset.\nraw_val_ds = tf.keras.preprocessing.text_dataset_from_directory(\n    train_dir,\n    batch_size=batch_size,\n    validation_split=0.2,\n    subset='validation',\n    seed=seed\n)",
   "execution_count": 6,
   "outputs": [
    {
     "name": "stdout",
     "text": "Found 8000 files belonging to 4 classes.\nUsing 1600 files for validation.\n",
     "output_type": "stream"
    }
   ]
  },
  {
   "cell_type": "code",
   "metadata": {
    "cell_id": "00009-d0ce1ca6-bc01-47d2-8c20-82642ea39222",
    "deepnote_to_be_reexecuted": false,
    "source_hash": "e91a2801",
    "execution_start": 1646036445641,
    "execution_millis": 643,
    "deepnote_cell_type": "code"
   },
   "source": "# Let's look into the trainig dataset. This is tf.data.Dataset object. Here we will learn to consume Dataset object.\n# 1. As clear from the above, there are total 6400 files in training.\n\n# 2. len(raw_train_ds) = 200.\n#    6400/32 = 200. This shows that 6400 files are divided into batch of 32 files each.# \n# len(raw_train_ds)\n\n# 3. Let's consume on element from this training dataset. Each element is tuple of length 2. First element contain\n# text strings and second element contains labels. Let's now print first few sequences and there labels.\n\nfor text_batch, label_batch in raw_train_ds.take(1):\n    for i in range(5):\n        print('Question: {}'.format(text_batch.numpy()[i]))\n        print('Label: {}\\n'.format(label_batch.numpy()[i]))",
   "execution_count": 7,
   "outputs": [
    {
     "name": "stdout",
     "text": "Question: b'\"my tester is going to the wrong constructor i am new to programming so if i ask a question that can be easily fixed, please forgive me. my program has a tester class with a main. when i send that to my regularpolygon class, it sends it to the wrong constructor. i have two constructors. 1 without perameters..public regularpolygon().    {.       mynumsides = 5;.       mysidelength = 30;.    }//end default constructor...and my second, with perameters. ..public regularpolygon(int numsides, double sidelength).    {.        mynumsides = numsides;.        mysidelength = sidelength;.    }// end constructor...in my tester class i have these two lines:..regularpolygon shape = new regularpolygon(numsides, sidelength);.        shape.menu();...numsides and sidelength were declared and initialized earlier in the testing class...so what i want to happen, is the tester class sends numsides and sidelength to the second constructor and use it in that class. but it only uses the default constructor, which therefor ruins the whole rest of the program. can somebody help me?..for those of you who want to see more of my code: here you go..public double vertexangle().    {.        system.out.println(\"\"the vertex angle method: \"\" + mynumsides);// prints out 5.        system.out.println(\"\"the vertex angle method: \"\" + mysidelength); // prints out 30..        double vertexangle;.        vertexangle = ((mynumsides - 2.0) / mynumsides) * 180.0;.        return vertexangle;.    }//end method vertexangle..public void menu().{.    system.out.println(mynumsides); // prints out what the user puts in.    system.out.println(mysidelength); // prints out what the user puts in.    gotographic();.    calcr(mynumsides, mysidelength);.    calcr(mynumsides, mysidelength);.    print(); .}// end menu...this is my entire tester class:..public static void main(string[] arg).{.    int numsides;.    double sidelength;.    scanner keyboard = new scanner(system.in);..    system.out.println(\"\"welcome to the regular polygon program!\"\");.    system.out.println();..    system.out.print(\"\"enter the number of sides of the polygon ==&gt; \"\");.    numsides = keyboard.nextint();.    system.out.println();..    system.out.print(\"\"enter the side length of each side ==&gt; \"\");.    sidelength = keyboard.nextdouble();.    system.out.println();..    regularpolygon shape = new regularpolygon(numsides, sidelength);.    shape.menu();.}//end main...for testing it i sent it numsides 4 and sidelength 100.\"\\n'\nLabel: 1\n\nQuestion: b'\"blank code slow skin detection this code changes the color space to lab and using a threshold finds the skin area of an image. but it\\'s ridiculously slow. i don\\'t know how to make it faster ?    ..from colormath.color_objects import *..def skindetection(img, treshold=80, color=[255,20,147]):..    print img.shape.    res=img.copy().    for x in range(img.shape[0]):.        for y in range(img.shape[1]):.            rgbimg=rgbcolor(img[x,y,0],img[x,y,1],img[x,y,2]).            labimg=rgbimg.convert_to(\\'lab\\', debug=false).            if (labimg.lab_l &gt; treshold):.                res[x,y,:]=color.            else: .                res[x,y,:]=img[x,y,:]..    return res\"\\n'\nLabel: 3\n\nQuestion: b'\"option and validation in blank i want to add a new option on my system where i want to add two text files, both rental.txt and customer.txt. inside each text are id numbers of the customer, the videotape they need and the price...i want to place it as an option on my code. right now i have:...add customer.rent return.view list.search.exit...i want to add this as my sixth option. say for example i ordered a video, it would display the price and would let me confirm the price and if i am going to buy it or not...here is my current code:..  import blank.io.*;.    import blank.util.arraylist;.    import static blank.lang.system.out;..    public class rentalsystem{.    static bufferedreader input = new bufferedreader(new inputstreamreader(system.in));.    static file file = new file(\"\"file.txt\"\");.    static arraylist&lt;string&gt; list = new arraylist&lt;string&gt;();.    static int rows;..    public static void main(string[] args) throws exception{.        introduction();.        system.out.print(\"\"nn\"\");.        login();.        system.out.print(\"\"nnnnnnnnnnnnnnnnnnnnnn\"\");.        introduction();.        string repeat;.        do{.            loadfile();.            system.out.print(\"\"nwhat do you want to do?nn\"\");.            system.out.print(\"\"n                    - - - - - - - - - - - - - - - - - - - - - - -\"\");.            system.out.print(\"\"nn                    |     1. add customer    |   2. rent return |n\"\");.            system.out.print(\"\"n                    - - - - - - - - - - - - - - - - - - - - - - -\"\");.            system.out.print(\"\"nn                    |     3. view list       |   4. search      |n\"\");.            system.out.print(\"\"n                    - - - - - - - - - - - - - - - - - - - - - - -\"\");.            system.out.print(\"\"nn                                             |   5. exit        |n\"\");.            system.out.print(\"\"n                                              - - - - - - - - - -\"\");.            system.out.print(\"\"nnchoice:\"\");.            int choice = integer.parseint(input.readline());.            switch(choice){.                case 1:.                    writedata();.                    break;.                case 2:.                    rentdata();.                    break;.                case 3:.                    viewlist();.                    break;.                case 4:.                    search();.                    break;.                case 5:.                    system.out.println(\"\"goodbye!\"\");.                    system.exit(0);.                default:.                    system.out.print(\"\"invalid choice: \"\");.                    break;.            }.            system.out.print(\"\"ndo another task? [y/n] \"\");.            repeat = input.readline();.        }while(repeat.equals(\"\"y\"\"));..        if(repeat!=\"\"y\"\") system.out.println(\"\"ngoodbye!\"\");..    }..    public static void writedata() throws exception{.        system.out.print(\"\"nname: \"\");.        string cname = input.readline();.        system.out.print(\"\"address: \"\");.        string add = input.readline();.        system.out.print(\"\"phone no.: \"\");.        string pno = input.readline();.        system.out.print(\"\"rental amount: \"\");.        string ramount = input.readline();.        system.out.print(\"\"tapenumber: \"\");.        string tno = input.readline();.        system.out.print(\"\"title: \"\");.        string title = input.readline();.        system.out.print(\"\"date borrowed: \"\");.        string dborrowed = input.readline();.        system.out.print(\"\"due date: \"\");.        string ddate = input.readline();.        createline(cname, add, pno, ramount,tno, title, dborrowed, ddate);.        rentdata();.    }..    public static void createline(string name, string address, string phone , string rental, string tapenumber, string title, string borrowed, string due) throws exception{.        filewriter fw = new filewriter(file, true);.        fw.write(\"\"nname: \"\"+name + \"\"naddress: \"\" + address +\"\"nphone no.: \"\"+ phone+\"\"nrentalamount: \"\"+rental+\"\"ntape no.: \"\"+ tapenumber+\"\"ntitle: \"\"+ title+\"\"ndate borrowed: \"\"+borrowed +\"\"ndue date: \"\"+ due+\"\":rn\"\");.        fw.close();.    }..    public static void loadfile() throws exception{.        try{.            list.clear();.            fileinputstream fstream = new fileinputstream(file);.            bufferedreader br = new bufferedreader(new inputstreamreader(fstream));.            rows = 0;.            while( br.ready()).            {.                list.add(br.readline());.                rows++;.            }.            br.close();.        } catch(exception e){.            system.out.println(\"\"list not yet loaded.\"\");.        }.    }..    public static void viewlist(){.        system.out.print(\"\"n~ ~ ~ ~ ~ ~ ~ ~ ~ ~ ~\"\");.        system.out.print(\"\" |list of all costumers|\"\");.        system.out.print(\"\"~ ~ ~ ~ ~ ~ ~ ~ ~ ~ ~\"\");.        for(int i = 0; i &lt;rows; i++){.            system.out.println(list.get(i));.        }.    }.        public static void rentdata()throws exception.    {   system.out.print(\"\"n~ ~ ~ ~ ~ ~ ~ ~ ~ ~ ~\"\");.        system.out.print(\"\" |rent data list|\"\");.        system.out.print(\"\"~ ~ ~ ~ ~ ~ ~ ~ ~ ~ ~\"\");.        system.out.print(\"\"nenter customer name: \"\");.        string cname = input.readline();.        system.out.print(\"\"date borrowed: \"\");.        string dborrowed = input.readline();.        system.out.print(\"\"due date: \"\");.        string ddate = input.readline();.        system.out.print(\"\"return date: \"\");.        string rdate = input.readline();.        system.out.print(\"\"rent amount: \"\");.        string ramount = input.readline();..        system.out.print(\"\"you pay:\"\"+ramount);...    }.    public static void search()throws exception.    {   system.out.print(\"\"n~ ~ ~ ~ ~ ~ ~ ~ ~ ~ ~\"\");.        system.out.print(\"\" |search costumers|\"\");.        system.out.print(\"\"~ ~ ~ ~ ~ ~ ~ ~ ~ ~ ~\"\");.        system.out.print(\"\"nenter costumer name: \"\");.        string cname = input.readline();.        boolean found = false;..        for(int i=0; i &lt; rows; i++){.            string temp[] = list.get(i).split(\"\",\"\");..            if(cname.equals(temp[0])){.            system.out.println(\"\"search result:nyou are \"\" + temp[0] + \"\" from \"\" + temp[1] + \"\".\"\"+ temp[2] + \"\".\"\"+ temp[3] + \"\".\"\"+ temp[4] + \"\".\"\"+ temp[5] + \"\" is \"\" + temp[6] + \"\".\"\"+ temp[7] + \"\" is \"\" + temp[8] + \"\".\"\");.                found = true;.            }.        }..        if(!found){.            system.out.print(\"\"no results.\"\");.        }..    }..        public static boolean evaluate(string uname, string pass){.        if (uname.equals(\"\"admin\"\")&amp;&amp;pass.equals(\"\"12345\"\")) return true;.        else return false;.    }..    public static string login()throws exception{.        bufferedreader input=new bufferedreader(new inputstreamreader(system.in));.        int counter=0;.        do{.            system.out.print(\"\"username:\"\");.            string uname =input.readline();.            system.out.print(\"\"password:\"\");.            string pass =input.readline();..            boolean accept= evaluate(uname,pass);..            if(accept){.                break;.                }else{.                    system.out.println(\"\"incorrect username or password!\"\");.                    counter ++;.                    }.        }while(counter&lt;3);..            if(counter !=3) return \"\"login successful\"\";.            else return \"\"login failed\"\";.            }.        public static void introduction() throws exception{..        system.out.println(\"\"                  - - - - - - - - - - - - - - - - - - - - - - - - -\"\");.        system.out.println(\"\"                  !                  r e n t a l                  !\"\");.        system.out.println(\"\"                   ! ~ ~ ~ ~ ~ !  =================  ! ~ ~ ~ ~ ~ !\"\");.        system.out.println(\"\"                  !                  s y s t e m                  !\"\");.        system.out.println(\"\"                  - - - - - - - - - - - - - - - - - - - - - - - - -\"\");.        }..}\"\\n'\nLabel: 1\n\nQuestion: b'\"exception: dynamic sql generation for the updatecommand is not supported against a selectcommand that does not return any key i dont know what is the problem this my code : ..string nomtable;..datatable listeetablissementtable = new datatable();.datatable listeinteretstable = new datatable();.dataset ds = new dataset();.sqldataadapter da;.sqlcommandbuilder cmdb;..private void listeinterets_click(object sender, eventargs e).{.    nomtable = \"\"listeinteretstable\"\";.    d.cnx.open();.    da = new sqldataadapter(\"\"select nome from offices\"\", d.cnx);.    ds = new dataset();.    da.fill(ds, nomtable);.    datagridview1.datasource = ds.tables[nomtable];.}..private void sauvgarder_click(object sender, eventargs e).{.    d.cnx.open();.    cmdb = new sqlcommandbuilder(da);.    da.update(ds, nomtable);.    d.cnx.close();.}\"\\n'\nLabel: 0\n\nQuestion: b'\"parameter with question mark and super in blank, i\\'ve come across a method that is formatted like this:..public final subscription subscribe(final action1&lt;? super t&gt; onnext, final action1&lt;throwable&gt; onerror) {.}...in the first parameter, what does the question mark and super mean?\"\\n'\nLabel: 1\n\n",
     "output_type": "stream"
    }
   ]
  },
  {
   "cell_type": "code",
   "metadata": {
    "cell_id": "00010-d433eb7a-590b-487a-a3d1-b8b2d4bce8af",
    "deepnote_to_be_reexecuted": false,
    "source_hash": "6c2f9173",
    "execution_start": 1646036450782,
    "execution_millis": 8,
    "deepnote_cell_type": "code"
   },
   "source": "# Here labels are encoded as integers. Let's find pot which integer corressponds to which label.\nfor i, label in enumerate(raw_train_ds.class_names):\n    print('Label ', i, 'corressponds to ', label)",
   "execution_count": 8,
   "outputs": [
    {
     "name": "stdout",
     "text": "Label  0 corressponds to  csharp\nLabel  1 corressponds to  java\nLabel  2 corressponds to  javascript\nLabel  3 corressponds to  python\n",
     "output_type": "stream"
    }
   ]
  },
  {
   "cell_type": "code",
   "metadata": {
    "cell_id": "00011-137b1b49-fdc3-44dc-99b3-12f038a436b3",
    "deepnote_to_be_reexecuted": false,
    "source_hash": "3f41d27b",
    "execution_start": 1646036454370,
    "execution_millis": 456,
    "deepnote_cell_type": "code"
   },
   "source": "# Let's create test dataset.\n\nraw_test_ds = tf.keras.preprocessing.text_dataset_from_directory(\n    test_dir,\n    batch_size=batch_size\n)",
   "execution_count": 9,
   "outputs": [
    {
     "name": "stdout",
     "text": "Found 8000 files belonging to 4 classes.\n",
     "output_type": "stream"
    }
   ]
  },
  {
   "cell_type": "markdown",
   "source": "## Let's Preprocess the Data\n\nTextVectorization ref - https://www.tensorflow.org/versions/r2.4/api_docs/python/tf/keras/layers/experimental/preprocessing/TextVectorization",
   "metadata": {
    "cell_id": "00012-3e9926a5-cb11-456b-afb1-741c235745c1",
    "deepnote_cell_type": "markdown"
   }
  },
  {
   "cell_type": "code",
   "metadata": {
    "cell_id": "00013-c896e4bd-47d6-43e8-b7ae-564f41841bad",
    "deepnote_to_be_reexecuted": false,
    "source_hash": "74052162",
    "execution_start": 1646036459731,
    "execution_millis": 56,
    "deepnote_cell_type": "code"
   },
   "source": "# Useful keywords - bag-of-words.\n# Preprocessing of text data consists of following steps.\n# 1. Standardization.\n# 2. Tokenization.\n# 3. Vectorization.\n\n# We'll use two TextVectorization binary and int.\nVOCAB_SIZE=10000\n\n# Let's create binary TextVectorization.\nbinary_vectorize_layer = TextVectorization(\n    max_tokens=VOCAB_SIZE,\n    output_mode='binary'\n)",
   "execution_count": 10,
   "outputs": []
  },
  {
   "cell_type": "code",
   "metadata": {
    "cell_id": "8c38a0d5-4f1b-4d1f-b6f8-eb063d88f578",
    "tags": [],
    "deepnote_to_be_reexecuted": false,
    "source_hash": "1676d363",
    "execution_start": 1646037096498,
    "execution_millis": 0,
    "deepnote_cell_type": "code"
   },
   "source": "# Let's create a int vectorization.\n\nint_vectorize_layer = TextVectorization(\n    max_tokens=VOCAB_SIZE,\n    output_mode='int',\n    output_sequence_length=250)",
   "execution_count": 21,
   "outputs": []
  },
  {
   "cell_type": "code",
   "metadata": {
    "cell_id": "8a2ab6da-a7e5-4799-8801-a6600cceed3b",
    "tags": [],
    "deepnote_to_be_reexecuted": false,
    "source_hash": "a6c74534",
    "execution_start": 1646037101179,
    "execution_millis": 23792,
    "deepnote_cell_type": "code"
   },
   "source": "# Let's adapt this layer to the dataset. This requires text only dataset. \n# Currently out datasets is tuple with one element as string and other element label.\n# First we need to get the text only dataset.\n\ntrain_text = raw_train_ds.map(lambda text, labels: text)\nbinary_vectorize_layer.adapt(train_text)\nint_vectorize_layer.adapt(train_text)",
   "execution_count": 22,
   "outputs": []
  },
  {
   "cell_type": "code",
   "metadata": {
    "cell_id": "e4ca4c86-f5bb-4334-8a49-8b70d7f89a15",
    "tags": [],
    "deepnote_to_be_reexecuted": false,
    "source_hash": "cbeaef0c",
    "execution_start": 1646036499198,
    "execution_millis": 44,
    "deepnote_cell_type": "code"
   },
   "source": "# Let's explore what happened in the above step.\n# First print out the question and label we want to process.\n\ntext_batch, label_batch = next(iter(raw_train_ds))\nquestion = text_batch[0]\nlabel = label_batch[0]",
   "execution_count": 13,
   "outputs": []
  },
  {
   "cell_type": "code",
   "source": "print('Question: ', question)\nprint('Label: ', label)",
   "metadata": {
    "cell_id": "1a14bde2-ce42-4cd2-86a4-baf0ef722632",
    "tags": [],
    "deepnote_to_be_reexecuted": false,
    "source_hash": "12e04340",
    "execution_start": 1646037130493,
    "execution_millis": 18,
    "deepnote_cell_type": "code"
   },
   "outputs": [
    {
     "name": "stdout",
     "text": "Question:  tf.Tensor(b'\"function expected error in blank for dynamically created check box when it is clicked i want to grab the attribute value.it is working in ie 8,9,10 but not working in ie 11,chrome shows function expected error..&lt;input type=checkbox checked=\\'checked\\' id=\\'symptomfailurecodeid\\' tabindex=\\'54\\' style=\\'cursor:pointer;\\' onclick=chkclickevt(this);  failurecodeid=\"\"1\"\" &gt;...function chkclickevt(obj) { .    alert(obj.attributes(\"\"failurecodeid\"\"));.}\"\\n', shape=(), dtype=string)\nLabel:  tf.Tensor(2, shape=(), dtype=int32)\n",
     "output_type": "stream"
    }
   ],
   "execution_count": 23
  },
  {
   "cell_type": "code",
   "source": "# Let's implement TextVectorization.\n\ndef binary_vectorize_text(text, label):\n    text = tf.expand_dims(text, -1)\n    return binary_vectorize_layer(text), label\n\ndef int_vectorize_text(text, label):\n    text = tf.expand_dims(text, -1)\n    return int_vectorize_layer(text), label",
   "metadata": {
    "cell_id": "4b63410e-f057-40f3-9fff-f5ea6ab8556f",
    "tags": [],
    "deepnote_to_be_reexecuted": false,
    "source_hash": "dc15002b",
    "execution_start": 1646037173740,
    "execution_millis": 10,
    "deepnote_cell_type": "code"
   },
   "outputs": [],
   "execution_count": 27
  },
  {
   "cell_type": "code",
   "source": "# Now process the above question by just created TextVectorization layer.\nbinary_vectorize_text(question, label)[0]",
   "metadata": {
    "cell_id": "f324a8af-8109-4252-a3e7-b8e5e3c567df",
    "tags": [],
    "deepnote_to_be_reexecuted": false,
    "source_hash": "9e603fee",
    "execution_start": 1646037139434,
    "execution_millis": 12,
    "deepnote_cell_type": "code"
   },
   "outputs": [
    {
     "output_type": "execute_result",
     "execution_count": 25,
     "data": {
      "text/plain": "<tf.Tensor: shape=(1, 10000), dtype=float32, numpy=array([[1., 1., 1., ..., 0., 0., 0.]], dtype=float32)>"
     },
     "metadata": {}
    }
   ],
   "execution_count": 25
  },
  {
   "cell_type": "code",
   "source": "int_vectorize_text(question, label)[0]",
   "metadata": {
    "cell_id": "b9c2c9ab-5ba1-4c7d-979e-e26969ca5b99",
    "tags": [],
    "deepnote_to_be_reexecuted": false,
    "source_hash": "11e2e9b4",
    "execution_start": 1646037178388,
    "execution_millis": 38,
    "deepnote_cell_type": "code"
   },
   "outputs": [
    {
     "output_type": "execute_result",
     "execution_count": 28,
     "data": {
      "text/plain": "<tf.Tensor: shape=(1, 250), dtype=int64, numpy=\narray([[  38,  450,   65,    7,   16,   12,  892,  265,  186,  451,   44,\n          11,    6,  685,    3,   46,    4, 2062,    2,  485,    1,    6,\n         158,    7,  479,    1,   26,   20,  158,    7,  479,    1,  502,\n          38,  450,    1, 1767, 1763,    1,    1,    1,    1,    1,    1,\n           1,    1,    0,    0,    0,    0,    0,    0,    0,    0,    0,\n           0,    0,    0,    0,    0,    0,    0,    0,    0,    0,    0,\n           0,    0,    0,    0,    0,    0,    0,    0,    0,    0,    0,\n           0,    0,    0,    0,    0,    0,    0,    0,    0,    0,    0,\n           0,    0,    0,    0,    0,    0,    0,    0,    0,    0,    0,\n           0,    0,    0,    0,    0,    0,    0,    0,    0,    0,    0,\n           0,    0,    0,    0,    0,    0,    0,    0,    0,    0,    0,\n           0,    0,    0,    0,    0,    0,    0,    0,    0,    0,    0,\n           0,    0,    0,    0,    0,    0,    0,    0,    0,    0,    0,\n           0,    0,    0,    0,    0,    0,    0,    0,    0,    0,    0,\n           0,    0,    0,    0,    0,    0,    0,    0,    0,    0,    0,\n           0,    0,    0,    0,    0,    0,    0,    0,    0,    0,    0,\n           0,    0,    0,    0,    0,    0,    0,    0,    0,    0,    0,\n           0,    0,    0,    0,    0,    0,    0,    0,    0,    0,    0,\n           0,    0,    0,    0,    0,    0,    0,    0,    0,    0,    0,\n           0,    0,    0,    0,    0,    0,    0,    0,    0,    0,    0,\n           0,    0,    0,    0,    0,    0,    0,    0,    0,    0,    0,\n           0,    0,    0,    0,    0,    0,    0,    0,    0,    0,    0,\n           0,    0,    0,    0,    0,    0,    0,    0]])>"
     },
     "metadata": {}
    }
   ],
   "execution_count": 28
  },
  {
   "cell_type": "code",
   "source": "# Let's explore the vocabulary of int vectoriation layer. Print out what those number means. \n\nprint('Here are few indexes and their corressponding tokens: ')\nprint('38 >> ', int_vectorize_layer.get_vocabulary()[38])\nprint('450 >>', int_vectorize_layer.get_vocabulary()[450])\nprint('65 >> ', int_vectorize_layer.get_vocabulary()[65])\nprint('7 >> ', int_vectorize_layer.get_vocabulary()[7])\nprint('16 >> ', int_vectorize_layer.get_vocabulary()[16])",
   "metadata": {
    "cell_id": "2b07c938-c7b4-44af-99b7-3fce96213a91",
    "tags": [],
    "deepnote_to_be_reexecuted": false,
    "source_hash": "b6bb2aa8",
    "execution_start": 1646037564367,
    "execution_millis": 100,
    "deepnote_cell_type": "code"
   },
   "outputs": [
    {
     "name": "stdout",
     "text": "Here are few indexes and their corressponding tokens: \n38 >>  function\n450 >> expected\n65 >>  error\n7 >>  in\n16 >>  blank\n",
     "output_type": "stream"
    }
   ],
   "execution_count": 33
  },
  {
   "cell_type": "code",
   "source": "# Let's vectorize the datasets.\nbinary_train_ds = raw_train_ds.map(binary_vectorize_text)\nbinary_val_ds = raw_val_ds.map(binary_vectorize_text)\nbinary_test_ds = raw_test_ds.map(binary_vectorize_text)\n\nint_train_ds = raw_train_ds.map(int_vectorize_text)\nint_val_ds = raw_val_ds.map(int_vectorize_text)\nint_test_ds = raw_test_ds.map(int_vectorize_text)",
   "metadata": {
    "cell_id": "8afcbd92-055f-40ae-9e54-6d6241461a8f",
    "tags": [],
    "deepnote_to_be_reexecuted": false,
    "source_hash": "1b55cb04",
    "execution_start": 1646037805732,
    "execution_millis": 910,
    "deepnote_cell_type": "code"
   },
   "outputs": [],
   "execution_count": 34
  },
  {
   "cell_type": "markdown",
   "source": "## Configure dataset for performance\n\nMore info at: https://www.tensorflow.org/guide/data_performance",
   "metadata": {
    "cell_id": "e46a641c-5909-4ff1-8bda-02e454636f38",
    "tags": [],
    "deepnote_cell_type": "markdown"
   }
  },
  {
   "cell_type": "code",
   "source": "AUTOTUNE = tf.data.AUTOTUNE\n\ndef configure_dataset(dataset):\n    return dataset.cache().prefetch(buffer_size=AUTOTUNE)",
   "metadata": {
    "cell_id": "cdddcf21-e51f-4adc-ad6c-3ecb61ba63cc",
    "tags": [],
    "deepnote_to_be_reexecuted": false,
    "source_hash": "e806dfa2",
    "execution_start": 1646038264170,
    "execution_millis": 5,
    "deepnote_cell_type": "code"
   },
   "outputs": [],
   "execution_count": 35
  },
  {
   "cell_type": "code",
   "source": "binary_train_ds = configure_dataset(binary_train_ds)\nbinary_val_ds = configure_dataset(binary_val_ds)\nbinary_test_ds = configure_dataset(binary_test_ds)\n\nint_train_ds = configure_dataset(int_train_ds)\nint_val_ds = configure_dataset(int_val_ds)\nint_test_ds = configure_dataset(int_test_ds)",
   "metadata": {
    "cell_id": "1fef0754-ef77-4a27-beef-3b51cdfeb1e3",
    "tags": [],
    "deepnote_to_be_reexecuted": false,
    "source_hash": "ded879e1",
    "execution_start": 1646038395249,
    "execution_millis": 9,
    "deepnote_cell_type": "code"
   },
   "outputs": [],
   "execution_count": 37
  },
  {
   "cell_type": "markdown",
   "source": "## Train Model",
   "metadata": {
    "cell_id": "6606e673-6d74-4ba3-b2a8-97d984127a55",
    "tags": [],
    "deepnote_cell_type": "markdown"
   }
  },
  {
   "cell_type": "code",
   "source": "",
   "metadata": {
    "cell_id": "64e91b19-ddd6-4c32-bf27-eda9101bb013",
    "tags": [],
    "deepnote_cell_type": "code"
   },
   "outputs": [],
   "execution_count": null
  },
  {
   "cell_type": "markdown",
   "source": "<a style='text-decoration:none;line-height:16px;display:flex;color:#5B5B62;padding:10px;justify-content:end;' href='https://deepnote.com?utm_source=created-in-deepnote-cell&projectId=aa728bc6-d481-4c01-a2d7-f40078d4b3b7' target=\"_blank\">\n<img alt='Created in deepnote.com' style='display:inline;max-height:16px;margin:0px;margin-right:7.5px;' src='data:image/svg+xml;base64,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' > </img>\nCreated in <span style='font-weight:600;margin-left:4px;'>Deepnote</span></a>",
   "metadata": {
    "tags": [],
    "created_in_deepnote_cell": true,
    "deepnote_cell_type": "markdown"
   }
  }
 ],
 "nbformat": 4,
 "nbformat_minor": 2,
 "metadata": {
  "deepnote": {},
  "deepnote_execution_queue": [],
  "deepnote_notebook_id": "6efc0be4-bff8-4dbf-9669-7dc03ce91664",
  "interpreter": {
   "hash": "183d5bd13557a8b3d9f727325a71e0a208cd60a82917a0161417648bddba3df9"
  },
  "kernelspec": {
   "display_name": "Python 3.8.8 64-bit ('tf': conda)",
   "language": "python",
   "name": "python3"
  },
  "language_info": {
   "codemirror_mode": {
    "name": "ipython",
    "version": 3
   },
   "file_extension": ".py",
   "mimetype": "text/x-python",
   "name": "python",
   "nbconvert_exporter": "python",
   "pygments_lexer": "ipython3",
   "version": "3.8.8"
  },
  "orig_nbformat": 4
 }
}
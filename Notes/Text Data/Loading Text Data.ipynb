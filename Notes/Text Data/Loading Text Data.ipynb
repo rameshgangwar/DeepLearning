{
 "cells": [
  {
   "cell_type": "markdown",
   "source": "# Loading Text Data using Keras Utility functions.",
   "metadata": {
    "cell_id": "50793aca-021a-4f42-a4d2-9901b3bb13f4",
    "deepnote_cell_type": "markdown"
   }
  },
  {
   "cell_type": "code",
   "metadata": {
    "cell_id": "00001-0589de1c-2ee3-4da0-a51d-0aa734b94f48",
    "deepnote_to_be_reexecuted": false,
    "source_hash": "3545447c",
    "execution_start": 1646027674723,
    "execution_millis": 5819,
    "deepnote_cell_type": "code"
   },
   "source": "import tensorflow as tf\nimport numpy as np\n\nimport os\nimport pathlib\n\nfrom tensorflow.keras.layers.experimental.preprocessing import TextVectorization\n\nprint('Tensorflow version: {}'.format(tf.__version__))",
   "execution_count": 1,
   "outputs": [
    {
     "name": "stdout",
     "text": "Tensorflow version: 2.4.1\n",
     "output_type": "stream"
    }
   ]
  },
  {
   "cell_type": "markdown",
   "source": "## Downloading Dataset using Keras Utility\n",
   "metadata": {
    "cell_id": "27cc75b5-0db4-4876-86d3-fa4d88d1dd0e",
    "tags": [],
    "deepnote_cell_type": "markdown"
   }
  },
  {
   "cell_type": "code",
   "metadata": {
    "cell_id": "00002-ab680956-7e78-45ff-9537-0a66392dd78f",
    "deepnote_to_be_reexecuted": false,
    "execution_millis": 61167,
    "execution_start": 1646027824672,
    "source_hash": "6bbbff79",
    "deepnote_cell_type": "code"
   },
   "source": "url = 'https://storage.googleapis.com/download.tensorflow.org/data/stack_overflow_16k.tar.gz'\ncache_dir = '/work/DeepLearning/Notes/datasets'\n\ndataset_dir = tf.keras.utils.get_file(\n    origin=url,\n    fname='stackoverflow_ds',\n    cache_dir=cache_dir,\n    cache_subdir='',\n    extract=True\n)\n\nprint('Size of the downloaded file: {} MB'.format(int(os.path.getsize(dataset_dir)/(1024*1024))))\nos.remove(dataset_dir)\ndataset_dir = pathlib.Path(dataset_dir).parent\nprint(os.listdir(dataset_dir))",
   "execution_count": 3,
   "outputs": [
    {
     "name": "stdout",
     "text": "Downloading data from https://storage.googleapis.com/download.tensorflow.org/data/stack_overflow_16k.tar.gz\n6053888/6053168 [==============================] - 0s 0us/step\nSize of the downloaded file: 5 MB\n['README.md', 'test', 'train']\n",
     "output_type": "stream"
    }
   ]
  },
  {
   "cell_type": "code",
   "metadata": {
    "cell_id": "00003-6b816554-39f6-44c3-b4a0-e050241d0ffa",
    "deepnote_to_be_reexecuted": false,
    "source_hash": "11709ad8",
    "execution_start": 1645957003680,
    "execution_millis": 12,
    "deepnote_cell_type": "code"
   },
   "source": "# Get the dataset directory and it's content.\n\nds_dir = os.getcwd()\n\nprint('Content of train directory: ')\ntrain_dir = os.path.join(ds_dir + '/train')\nprint(os.listdir(train_dir))\n\nprint('Content of test directory: ')\ntest_dir = os.path.join(ds_dir + '/test')\nprint(os.listdir(test_dir))",
   "execution_count": null,
   "outputs": [
    {
     "name": "stdout",
     "text": "Content of train directory: \n['javascript', 'java', 'csharp', 'python']\nContent of test directory: \n['csharp', 'python', 'java', 'javascript']\n",
     "output_type": "stream"
    }
   ]
  },
  {
   "cell_type": "code",
   "metadata": {
    "cell_id": "00004-106d89f2-19db-4b5c-8343-521b2f549c43",
    "deepnote_to_be_reexecuted": false,
    "source_hash": "e72d99e1",
    "execution_start": 1645957014956,
    "execution_millis": 17,
    "deepnote_cell_type": "code"
   },
   "source": "# Let's read the content of a file.\n\nfname = train_dir + '/python/1755.txt'\nfile = open(fname, \"r\")\nprint(file.read())",
   "execution_count": null,
   "outputs": [
    {
     "name": "stdout",
     "text": "why does this blank program print true x=true.def stupid():.    x=false.stupid().print x\n\n",
     "output_type": "stream"
    }
   ]
  },
  {
   "cell_type": "markdown",
   "source": "## Loading the off disk\n\nWe'll use keras utility function for this purpose. This function will return tf.data.Dataset. \nFor more information, look at the \"tf.data.Dataset\" file.",
   "metadata": {
    "cell_id": "00005-7635cdbb-879d-4e2b-9eaf-8ed71daa0caf",
    "deepnote_cell_type": "markdown"
   }
  },
  {
   "cell_type": "code",
   "metadata": {
    "cell_id": "00006-0e521769-da68-4f7b-b050-837e3757a01b",
    "deepnote_to_be_reexecuted": false,
    "source_hash": "2483d35d",
    "execution_start": 1645957023354,
    "execution_millis": 389,
    "deepnote_cell_type": "code"
   },
   "source": "# Load the dataset off disk.\n# for the current purpose, we'll use tf.keras.utils.text_dataset_from_directory. this will return tf.data.Dataset object.\n# This function can also be used to divide the dataset into train and test dataset.\n\nbatch_size = 32\nseed = 42\n\n# Create traing dataset\nraw_train_ds = tf.keras.preprocessing.text_dataset_from_directory(\n    train_dir,\n    batch_size=batch_size,\n    validation_split=0.2,\n    subset='training',\n    seed=seed\n)",
   "execution_count": null,
   "outputs": [
    {
     "name": "stdout",
     "text": "Found 8000 files belonging to 4 classes.\nUsing 6400 files for training.\n",
     "output_type": "stream"
    }
   ]
  },
  {
   "cell_type": "code",
   "metadata": {
    "cell_id": "00008-6549ba8a-2a84-43d1-82ce-65c3e7d2b156",
    "deepnote_to_be_reexecuted": false,
    "source_hash": "b7f8bd4b",
    "execution_start": 1645957034272,
    "execution_millis": 289,
    "deepnote_cell_type": "code"
   },
   "source": "# Create validation dataset.\nraw_val_ds = tf.keras.preprocessing.text_dataset_from_directory(\n    train_dir,\n    batch_size=batch_size,\n    validation_split=0.2,\n    subset='validation',\n    seed=seed\n)",
   "execution_count": null,
   "outputs": [
    {
     "name": "stdout",
     "text": "Found 8000 files belonging to 4 classes.\nUsing 1600 files for validation.\n",
     "output_type": "stream"
    }
   ]
  },
  {
   "cell_type": "code",
   "metadata": {
    "cell_id": "00009-d0ce1ca6-bc01-47d2-8c20-82642ea39222",
    "deepnote_to_be_reexecuted": false,
    "source_hash": "e91a2801",
    "execution_start": 1645957053451,
    "execution_millis": 185,
    "deepnote_cell_type": "code"
   },
   "source": "# Let's look into the trainig dataset. This is tf.data.Dataset object. Here we will learn to consume Dataset object.\n# 1. As clear from the above, there are total 6400 files in training.\n\n# 2. len(raw_train_ds) = 200.\n#    6400/32 = 200. This shows that 6400 files are divided into batch of 32 files each.# \n# len(raw_train_ds)\n\n# 3. Let's consume on element from this training dataset. Each element is tuple of length 2. First element contain\n# text strings and second element contains labels. Let's now print first few sequences and there labels.\n\nfor text_batch, label_batch in raw_train_ds.take(1):\n    for i in range(5):\n        print('Question: {}'.format(text_batch.numpy()[i]))\n        print('Label: {}\\n'.format(label_batch.numpy()[i]))",
   "execution_count": null,
   "outputs": [
    {
     "name": "stdout",
     "text": "Question: b'\"blank8 why is my solution faster than the neat solution? (hackerrank chocolate feast) edit: simplified my solution..edit: removed opinion based secondary question...background: atarted learning blank a week or two ago using hackerranks problems as exercises and stackoverflow search + google as my teacher, i\\'ve had some limited experience learning other languages...i did the exercise my own \"\"noobish learner way\"\" which i can\\'t help but feel is a \"\"botched job\"\" when i see \"\"neat &amp; short\"\" solutions...however, when submitting both solutions one after another a couple of times i found the \"\"neat\"\" solution was quite a bit slower. ..i vaguely remember something about % operations being costly, is mine faster because of no % operations or is there more to it than just that?..exercise: https://www.hackerrank.com/challenges/chocolate-feast..neat solution from discussion:..import blank.io.*;.import blank.util.*;..public class solution {.    static int cc; .    public static void main(string[] args) {.        scanner in = new scanner(system.in);.        int t,n,c,m,r;.            t = in.nextint();.            while(t--&gt;0){.             n = in.nextint();.            c = in.nextint();.             m = in.nextint();.                r=n/c;.                cc=r;..                    while(r&gt;=m){.                        cc=cc+r/m;.                        r=r%m+r/m;.                    }..                system.out.println(cc); .            }..    }.}...my solution:..import blank.io.*;.import blank.util.*;..public class solution {..    public static void main(string[] args) {..        scanner sc = new scanner(system.in);.        int t = integer.parseint(sc.nextline());    //t = number of test cases.        int[][] tc = readinput(sc, t);              //tc[t][0] = money. tc[t][1] = price. tc[t][2] = wrappers per free bar..        for (int i = 0; i&lt;t; i++){                  //loop for all test cases.            int choc = calcchoc(tc,i);              //work out how much choc can be bought.            system.out.println(choc);               //print result for the test case.        }.    }.    //calculate how much choc he can buy with m $ at p price with w wrappers needed for a free bar.    public static int calcchoc(int[][] tc,int i){..        int m = tc[i][0];       //money he has.        int p = tc[i][1];       //price of choc.        int w = tc[i][2];       //wrappers per free bar..        int bars = m/p;         //how many bars he can buy initially.        int wrappers = bars;    //each bar is a wrapper from initial purpose..        //loop to turn in all wrappers while it is possible to do so.        while (w&lt;=wrappers){..            int barsfromturnin = wrappers/w;                //bars from turning in current wrappers..            bars = bars + barsfromturnin;                   //new bar count.            wrappers = wrappers - (barsfromturnin * (w-1)); //wrapper count reduced by amount of wrappers turned in -1 wrapper per bar recieved from turn in...            if (w==1){ //break out of infinite loop when you get 1 bar for 1 wrapper!.                system.out.print(\"\"infinite bars, exiting infinite loop at bars = \"\");.                break;.            }.        }.        return bars;.    }.    //read input for each test case and make 2d array of the info.    public static int[][] readinput(scanner sc, int t){..        int[][] input = new int[t][3];..        for (int i = 0; i&lt;t; i++){.            string[] inputline = sc.nextline().split(\"\" \"\");..            input[i][0] = integer.parseint(inputline[0]);.            input[i][1] = integer.parseint(inputline[1]);.            input[i][2] = integer.parseint(inputline[2]);.        }.        return input;.    }.}\"\\n'\nLabel: 1\n\nQuestion: b'\"element.removeeventlistener(\\'mousedown\\', externalfunction, usecapture); is not working i need to first remove the event listener before dynamically adding more elements which also need the same event listener. i am using an external function name (not an anonymous function) and specifying the same usecapture value in both the add and remove. ..the function is nested within another function. &lt; suspected problem was the problem..you can see the problem by clicking the first \"\"add button\"\"  more than once. the first click adds one more button, the second click adds two more, the third click adds four more, etc. each click should only add one more. i guess the return value of removeeventlistener is always undefined so i can only tell that removal did not work from the duplicate events.....var app = function() {. console.log(\\'app\\');. . var setup = function() {.  console.log(\\'setup\\');. .  var addbutton = function(e) {.   console.log(e);.   var button = e.target;.   var newbutton = document.createelement(\\'button\\');.   newbutton.innertext = \\'add another button\\';.   button.parentnode.appendchild( newbutton );.   setup();.  }. .  var buttons = document.queryselectorall(\\'button\\');.  .  for(var i=0; i&lt;buttons.length; i++) {.   var button = buttons[i];.   button.removeeventlistener(\\'mousedown\\', addbutton, false);.   button.addeventlistener(\\'mousedown\\', addbutton, false);.  }.  . }. setup();.}.app();.&lt;div&gt;. &lt;button&gt;add button&lt;/button&gt;.&lt;/div&gt;\"\\n'\nLabel: 2\n\nQuestion: b'\"downloading a file using blank i have some code to download a text file from a website. when the requested file does not exist, my application downloads a text file which has html content. i need to filter this html content (should not download a text file with html content if the requested file does not exist) and need to download only text files which has the correct content. below is my code...string filepath = @\"\"c:textfiles\"\" + filename + string.format(\"\"{0:00000}\"\", i) + \"\".txt\"\";.directory.createdirectory(path.getdirectoryname(filepath));.//messagebox.show(filepath);..using (filestream download = new filestream(filepath, filemode.create)).{.    stream stream = clientx.getresponse().getresponsestream();.    while ((read = stream.read(buffer, 0, buffer.length)) != 0).    {..        download.write(buffer, 0, read);..    }.}...please advice\"\\n'\nLabel: 0\n\nQuestion: b'\"read/write windows registry on 64bit win 7 using blank with jna i\\'m trying to read/write windows registry on 64bit win7 using blank. ..firstly, i tried jdk blank.util.prefs.preferences and its reflection usage. that is a good solution but it only supports reading/writing reg_sz type (string) value. ..unfortunately, i need to read/write reg_binary, so give it up. ..secondly, i tried jni registry. reading is ok, but writing usually fails because writing hklm needs administrator rights. i don\\'t know how to get administrator rights in blank. ..finally, i tried jna (blank native access) an excellent project for working with native libraries and has support for the windows registry in the platform library (platform.jar) through advapi32util and advapi32. it\\'s very good and simple to use. and writing registry needs no administrator rights. ..but how can i read/write 32bit registry (under wow6432node node) in a 64bit jvm on win7? ..by default, 64bit nodes are read/written in 64bit jvms, and 32bit nodes in 32bit jvms. ..but in a 64bit jvm, i want to read/write 32bit nodes(for example, hklm-&gt;software-&gt;wow6432node-&gt;odbc). how can i do that?\"\\n'\nLabel: 1\n\nQuestion: b'\"why does my string.strip() function in blank fails to strip other characters along the same line? for instance, i have this:..stra = \"\"this is stringt exampltte....wow! !!0000000\"\".print stra.strip(\\'t\\')....  his is stringt exampltte....wow! !!0000000...why does the function only strip the first \\'t\\'?..in contrast, we have this:.    stra = \"\"000000this is stringt exampltte....wow! !!0000000\"\".    print stra.strip(\\'0\\')...  this is stringt exampltte....wow! !!...which strips all of the \\'0\\'. why would this remove all \\'0\\' in this case but not in the case of \\'t\\'?..third variation, we have this:..stra = \"\"000000this is stringt exampltte....wow! !!0000000\"\".print stra.strip(\\'this\\')....  000000this is stringt exampltte....wow! !!0000000...which removes nothing at all! not even in the words that have t,h,i,s in it. but if we were to remove the zeros from the start,..stra = \"\"this is stringt exampltte....wow! !!0000000\"\".print stra.strip(\\'this\\')....  is stringt exampltte....wow! !!0000000...it seems that the strip function in my blank 2.7.x only works for the first combination of characters separated by whitespace, or for only number strings! why is this so?\"\\n'\nLabel: 3\n\n",
     "output_type": "stream"
    }
   ]
  },
  {
   "cell_type": "code",
   "metadata": {
    "cell_id": "00010-d433eb7a-590b-487a-a3d1-b8b2d4bce8af",
    "deepnote_to_be_reexecuted": false,
    "source_hash": "6c2f9173",
    "execution_start": 1645957061525,
    "execution_millis": 9,
    "deepnote_cell_type": "code"
   },
   "source": "# Here labels are encoded as integers. Let's find pot which integer corressponds to which label.\nfor i, label in enumerate(raw_train_ds.class_names):\n    print('Label ', i, 'corressponds to ', label)",
   "execution_count": null,
   "outputs": [
    {
     "name": "stdout",
     "text": "Label  0 corressponds to  csharp\nLabel  1 corressponds to  java\nLabel  2 corressponds to  javascript\nLabel  3 corressponds to  python\n",
     "output_type": "stream"
    }
   ]
  },
  {
   "cell_type": "code",
   "metadata": {
    "cell_id": "00011-137b1b49-fdc3-44dc-99b3-12f038a436b3",
    "deepnote_to_be_reexecuted": false,
    "source_hash": "3f41d27b",
    "execution_start": 1645957065802,
    "execution_millis": 540,
    "deepnote_cell_type": "code"
   },
   "source": "# Let's create test dataset.\n\nraw_test_ds = tf.keras.preprocessing.text_dataset_from_directory(\n    test_dir,\n    batch_size=batch_size\n)",
   "execution_count": null,
   "outputs": [
    {
     "name": "stdout",
     "text": "Found 8000 files belonging to 4 classes.\n",
     "output_type": "stream"
    }
   ]
  },
  {
   "cell_type": "markdown",
   "source": "## Let's Preprocess the Data\n",
   "metadata": {
    "cell_id": "00012-3e9926a5-cb11-456b-afb1-741c235745c1",
    "deepnote_cell_type": "markdown"
   }
  },
  {
   "cell_type": "code",
   "metadata": {
    "cell_id": "00013-c896e4bd-47d6-43e8-b7ae-564f41841bad",
    "deepnote_to_be_reexecuted": false,
    "source_hash": "dbd26118",
    "execution_start": 1645958367912,
    "execution_millis": 4,
    "deepnote_cell_type": "code"
   },
   "source": "# Useful keywords - bag-of-words.\n# Preprocessing of text data consists of following steps.\n# 1. Standardization.\n# 2. Tokenization.\n# 3. Vectorization.\n\n# We'll use two TextVectorization binary and int.\nVOCAB_SIZE=10000\n\n# Let's create binary TextVectorization.\nbinary_vectorize_layer = TextVectorization(\n    max_tokens=VOCAB_SIZE,\n    output_mode='binary'\n)",
   "execution_count": null,
   "outputs": []
  },
  {
   "cell_type": "markdown",
   "source": "<a style='text-decoration:none;line-height:16px;display:flex;color:#5B5B62;padding:10px;justify-content:end;' href='https://deepnote.com?utm_source=created-in-deepnote-cell&projectId=aa728bc6-d481-4c01-a2d7-f40078d4b3b7' target=\"_blank\">\n<img alt='Created in deepnote.com' style='display:inline;max-height:16px;margin:0px;margin-right:7.5px;' src='data:image/svg+xml;base64,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' > </img>\nCreated in <span style='font-weight:600;margin-left:4px;'>Deepnote</span></a>",
   "metadata": {
    "tags": [],
    "created_in_deepnote_cell": true,
    "deepnote_cell_type": "markdown"
   }
  }
 ],
 "nbformat": 4,
 "nbformat_minor": 2,
 "metadata": {
  "deepnote": {},
  "deepnote_execution_queue": [],
  "deepnote_notebook_id": "6efc0be4-bff8-4dbf-9669-7dc03ce91664",
  "interpreter": {
   "hash": "183d5bd13557a8b3d9f727325a71e0a208cd60a82917a0161417648bddba3df9"
  },
  "kernelspec": {
   "display_name": "Python 3.8.8 64-bit ('tf': conda)",
   "language": "python",
   "name": "python3"
  },
  "language_info": {
   "codemirror_mode": {
    "name": "ipython",
    "version": 3
   },
   "file_extension": ".py",
   "mimetype": "text/x-python",
   "name": "python",
   "nbconvert_exporter": "python",
   "pygments_lexer": "ipython3",
   "version": "3.8.8"
  },
  "orig_nbformat": 4
 }
}
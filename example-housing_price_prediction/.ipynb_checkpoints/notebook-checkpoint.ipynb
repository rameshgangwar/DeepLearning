{
 "cells": [
  {
   "cell_type": "markdown",
   "metadata": {},
   "source": [
    "# Housing Price Prediction\n",
    "\n",
    "Here are couple of things you need to ask before you start working on any machine\n",
    "learning project.\n",
    "\n",
    "1. How the performance of your model is going to be measured. There are many ways.\n",
    "    Few of them are:\n",
    "    - RMSE\n",
    "    - MAE\n",
    "2. Next, how to get the data. Best way is to write a small script to get the data,\n",
    "    instead of downloading and extracting data manually. This is especially helpful\n",
    "    if the data changes in future. This way you will get the latest data every time\n",
    "    you run your code.\n",
    "\n",
    "\n",
    "**Reference**\n",
    "- Hands on Machine Learning with Scikit-Learn, Keras, and TensorFlow: Aurelien Geron (Chapter-2)"
   ]
  },
  {
   "cell_type": "markdown",
   "metadata": {},
   "source": [
    "# Imports"
   ]
  },
  {
   "cell_type": "code",
   "execution_count": 1,
   "metadata": {},
   "outputs": [],
   "source": [
    "import numpy as np\n",
    "import pandas as pd\n",
    "\n",
    "from pathlib import Path\n",
    "import tarfile\n",
    "import urllib.request\n",
    "import os\n",
    "import sys"
   ]
  },
  {
   "cell_type": "markdown",
   "metadata": {},
   "source": [
    "# Get the data"
   ]
  },
  {
   "cell_type": "code",
   "execution_count": 2,
   "metadata": {},
   "outputs": [],
   "source": [
    "DOWNLOAD_URL = 'https://raw.githubusercontent.com/ageron/handson-ml2/master/datasets/housing/housing.tgz'\n",
    "TARGET_DIR = os.path.join('dataset', 'housing')\n",
    "\n",
    "# Function to download data\n",
    "# def fetch_housing_data(url = DOWNLOAD_URL, target_dir = TARGET_DIR):\n",
    "#     os.makedirs(target_dir, exist_ok=True)\n",
    "#     ds_path = os.path.join(target_dir, 'housing.tgz')\n"
   ]
  },
  {
   "cell_type": "markdown",
   "metadata": {},
   "source": [
    "# Playground"
   ]
  },
  {
   "cell_type": "code",
   "execution_count": 5,
   "metadata": {},
   "outputs": [
    {
     "ename": "ModuleNotFoundError",
     "evalue": "No module named 'tensorflow'",
     "output_type": "error",
     "traceback": [
      "\u001b[1;31m---------------------------------------------------------------------------\u001b[0m",
      "\u001b[1;31mModuleNotFoundError\u001b[0m                       Traceback (most recent call last)",
      "Cell \u001b[1;32mIn [5], line 1\u001b[0m\n\u001b[1;32m----> 1\u001b[0m \u001b[38;5;28;01mimport\u001b[39;00m \u001b[38;5;21;01mtensorflow\u001b[39;00m \u001b[38;5;28;01mas\u001b[39;00m \u001b[38;5;21;01mtf\u001b[39;00m\n",
      "\u001b[1;31mModuleNotFoundError\u001b[0m: No module named 'tensorflow'"
     ]
    }
   ],
   "source": [
    "import tensorflow as tf\n"
   ]
  }
 ],
 "metadata": {
  "kernelspec": {
   "display_name": "Python 3 (ipykernel)",
   "language": "python",
   "name": "python3"
  },
  "language_info": {
   "codemirror_mode": {
    "name": "ipython",
    "version": 3
   },
   "file_extension": ".py",
   "mimetype": "text/x-python",
   "name": "python",
   "nbconvert_exporter": "python",
   "pygments_lexer": "ipython3",
   "version": "3.10.8"
  },
  "vscode": {
   "interpreter": {
    "hash": "100cf6cb79077844e97cfe92f748b8d9535985efbbd77ff58c02452dcdece3af"
   }
  }
 },
 "nbformat": 4,
 "nbformat_minor": 2
}

{
 "cells": [
  {
   "cell_type": "markdown",
   "metadata": {},
   "source": [
    "# Housing Price Prediction\n",
    "\n",
    "Here are couple of things you need to ask before you start working on any machine\n",
    "learning project.\n",
    "\n",
    "1. How the performance of your model is going to be measured. There are many ways.\n",
    "    Few of them are:\n",
    "    - RMSE\n",
    "    - MAE\n",
    "2. Next, how to get the data. Best way is to write a small script to get the data,\n",
    "    instead of downloading and extracting data manually. This is especially helpful\n",
    "    if the data changes in future. This way you will get the latest data every time\n",
    "    you run your code.\n",
    "\n",
    "\n",
    "**Reference**\n",
    "- Hands on Machine Learning with Scikit-Learn, Keras, and TensorFlow: Aurelien Geron (Chapter-2)"
   ]
  },
  {
   "cell_type": "markdown",
   "metadata": {},
   "source": [
    "# Imports"
   ]
  },
  {
   "cell_type": "code",
   "execution_count": 18,
   "metadata": {},
   "outputs": [],
   "source": [
    "from pathlib import Path\n",
    "import urllib.request\n",
    "import tarfile\n",
    "\n",
    "import pandas as pd"
   ]
  },
  {
   "cell_type": "markdown",
   "metadata": {},
   "source": [
    "# Get the data"
   ]
  },
  {
   "cell_type": "code",
   "execution_count": 25,
   "metadata": {},
   "outputs": [],
   "source": [
    "# URL to the file\n",
    "\n",
    "URL = 'https://raw.githubusercontent.com/ageron/handson-ml2/master/datasets/housing/housing.tgz'\n",
    "\n",
    "def fetch_housing_data():\n",
    "    tarball_path = Path(Path.cwd(), 'housing.tgz')\n",
    "    if not tarball_path.is_file():\n",
    "        urllib.request.urlretrieve(URL, tarball_path)\n",
    "        with tarfile.open(tarball_path) as housing_tarball:\n",
    "            housing_tarball.extractall(path=Path.cwd())\n",
    "\n",
    "fetch_housing_data()"
   ]
  },
  {
   "cell_type": "markdown",
   "metadata": {},
   "source": [
    "# Explore the Data"
   ]
  },
  {
   "cell_type": "code",
   "execution_count": 31,
   "metadata": {},
   "outputs": [],
   "source": [
    "# Load the data as Pandas Dataframe\n",
    "\n",
    "ds_csv_file = Path(Path.cwd(), 'housing.csv') # Absolute path of the file.\n",
    "df = pd.read_csv(ds_csv_file)"
   ]
  },
  {
   "cell_type": "code",
   "execution_count": null,
   "metadata": {},
   "outputs": [],
   "source": []
  },
  {
   "cell_type": "markdown",
   "metadata": {},
   "source": [
    "# Playground"
   ]
  },
  {
   "cell_type": "code",
   "execution_count": 16,
   "metadata": {},
   "outputs": [
    {
     "name": "stdout",
     "output_type": "stream",
     "text": [
      "c:\\Users\\rames\\Desktop\\GitHub\\deep_learning\\example-housing_price_prediction\\housing.tgz\n"
     ]
    },
    {
     "data": {
      "text/plain": [
       "True"
      ]
     },
     "execution_count": 16,
     "metadata": {},
     "output_type": "execute_result"
    }
   ],
   "source": [
    "x = Path(Path.cwd(), 'housing.tgz')\n",
    "\n",
    "print(x)\n",
    "not x.is_file()"
   ]
  }
 ],
 "metadata": {
  "kernelspec": {
   "display_name": "Python 3.8.15 ('ai-tf')",
   "language": "python",
   "name": "python3"
  },
  "language_info": {
   "codemirror_mode": {
    "name": "ipython",
    "version": 3
   },
   "file_extension": ".py",
   "mimetype": "text/x-python",
   "name": "python",
   "nbconvert_exporter": "python",
   "pygments_lexer": "ipython3",
   "version": "3.10.8"
  },
  "vscode": {
   "interpreter": {
    "hash": "eb87a7941deb1b0757a711a41d45caa27e34c1bfb1d58f4b41ecb2d493ffd757"
   }
  }
 },
 "nbformat": 4,
 "nbformat_minor": 2
}

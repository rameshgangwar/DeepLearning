{
 "cells": [
  {
   "cell_type": "markdown",
   "id": "dc739d5c",
   "metadata": {},
   "source": [
    "# Copy the images to the right folder\n",
    "\n",
    "This documents contains code to sort the images according to the attribute described in the accompained csv file.\n",
    "\n",
    "## Problem Statement\n",
    "\n",
    "Suppose you downloaded the data from internet as .zip file. After downloading you extracted the .zip file and found following things in the extracted folder.\n",
    "\n",
    "1. A folder containing images.\n",
    "2. A CSV file which contains the information about the categoty of the each image with image name. For example, CSV file contains two columns. One column contains image of the image and the second column specifies the category of the each image.\n",
    "\n",
    "|-----|-----|-------|\n",
    "|Serial Number|\n",
    "\n",
    "## References\n",
    "\n",
    "* Data Source: https://peltarion.com/knowledge-center/documentation/terms/dataset-licenses/car-damage\n",
    "\n",
    "\n",
    "\n"
   ]
  },
  {
   "cell_type": "code",
   "execution_count": 110,
   "id": "7f27c2d6",
   "metadata": {},
   "outputs": [],
   "source": [
    "# First import the required libraries\n",
    "\n",
    "import pandas as pd\n",
    "import os\n",
    "import shutil"
   ]
  },
  {
   "cell_type": "code",
   "execution_count": 23,
   "id": "bd37262f",
   "metadata": {},
   "outputs": [
    {
     "data": {
      "text/html": [
       "<div>\n",
       "<style scoped>\n",
       "    .dataframe tbody tr th:only-of-type {\n",
       "        vertical-align: middle;\n",
       "    }\n",
       "\n",
       "    .dataframe tbody tr th {\n",
       "        vertical-align: top;\n",
       "    }\n",
       "\n",
       "    .dataframe thead th {\n",
       "        text-align: right;\n",
       "    }\n",
       "</style>\n",
       "<table border=\"1\" class=\"dataframe\">\n",
       "  <thead>\n",
       "    <tr style=\"text-align: right;\">\n",
       "      <th></th>\n",
       "      <th>image</th>\n",
       "      <th>class</th>\n",
       "      <th>subset</th>\n",
       "    </tr>\n",
       "  </thead>\n",
       "  <tbody>\n",
       "    <tr>\n",
       "      <th>0</th>\n",
       "      <td>image/0.jpeg</td>\n",
       "      <td>unknown</td>\n",
       "      <td>T</td>\n",
       "    </tr>\n",
       "    <tr>\n",
       "      <th>1</th>\n",
       "      <td>image/1.jpeg</td>\n",
       "      <td>head_lamp</td>\n",
       "      <td>T</td>\n",
       "    </tr>\n",
       "    <tr>\n",
       "      <th>2</th>\n",
       "      <td>image/2.jpeg</td>\n",
       "      <td>door_scratch</td>\n",
       "      <td>T</td>\n",
       "    </tr>\n",
       "    <tr>\n",
       "      <th>3</th>\n",
       "      <td>image/3.jpeg</td>\n",
       "      <td>head_lamp</td>\n",
       "      <td>T</td>\n",
       "    </tr>\n",
       "    <tr>\n",
       "      <th>4</th>\n",
       "      <td>image/4.jpeg</td>\n",
       "      <td>unknown</td>\n",
       "      <td>T</td>\n",
       "    </tr>\n",
       "    <tr>\n",
       "      <th>5</th>\n",
       "      <td>image/5.jpeg</td>\n",
       "      <td>unknown</td>\n",
       "      <td>T</td>\n",
       "    </tr>\n",
       "    <tr>\n",
       "      <th>6</th>\n",
       "      <td>image/6.jpeg</td>\n",
       "      <td>glass_shatter</td>\n",
       "      <td>T</td>\n",
       "    </tr>\n",
       "    <tr>\n",
       "      <th>7</th>\n",
       "      <td>image/7.jpeg</td>\n",
       "      <td>unknown</td>\n",
       "      <td>T</td>\n",
       "    </tr>\n",
       "    <tr>\n",
       "      <th>8</th>\n",
       "      <td>image/8.jpeg</td>\n",
       "      <td>tail_lamp</td>\n",
       "      <td>T</td>\n",
       "    </tr>\n",
       "    <tr>\n",
       "      <th>9</th>\n",
       "      <td>image/9.jpeg</td>\n",
       "      <td>bumper_dent</td>\n",
       "      <td>T</td>\n",
       "    </tr>\n",
       "  </tbody>\n",
       "</table>\n",
       "</div>"
      ],
      "text/plain": [
       "          image          class subset\n",
       "0  image/0.jpeg        unknown      T\n",
       "1  image/1.jpeg      head_lamp      T\n",
       "2  image/2.jpeg   door_scratch      T\n",
       "3  image/3.jpeg      head_lamp      T\n",
       "4  image/4.jpeg        unknown      T\n",
       "5  image/5.jpeg        unknown      T\n",
       "6  image/6.jpeg  glass_shatter      T\n",
       "7  image/7.jpeg        unknown      T\n",
       "8  image/8.jpeg      tail_lamp      T\n",
       "9  image/9.jpeg    bumper_dent      T"
      ]
     },
     "execution_count": 23,
     "metadata": {},
     "output_type": "execute_result"
    }
   ],
   "source": [
    "# Import the CSV files containing \n",
    "\n",
    "csv = pd.read_csv('preprocessed/index.csv')\n",
    "csv.head(10)"
   ]
  },
  {
   "cell_type": "code",
   "execution_count": 24,
   "id": "68b5e4dc",
   "metadata": {},
   "outputs": [
    {
     "name": "stdout",
     "output_type": "stream",
     "text": [
      "<class 'pandas.core.frame.DataFrame'>\n",
      "RangeIndex: 1594 entries, 0 to 1593\n",
      "Data columns (total 3 columns):\n",
      " #   Column  Non-Null Count  Dtype \n",
      "---  ------  --------------  ----- \n",
      " 0   image   1594 non-null   object\n",
      " 1   class   1594 non-null   object\n",
      " 2   subset  1594 non-null   object\n",
      "dtypes: object(3)\n",
      "memory usage: 37.5+ KB\n"
     ]
    }
   ],
   "source": [
    "csv.info()"
   ]
  },
  {
   "cell_type": "code",
   "execution_count": 14,
   "id": "2f0aebfb",
   "metadata": {},
   "outputs": [],
   "source": [
    "categories = csv['class'].value_counts()"
   ]
  },
  {
   "cell_type": "code",
   "execution_count": 15,
   "id": "e2bb5154",
   "metadata": {},
   "outputs": [
    {
     "data": {
      "text/plain": [
       "Index(['unknown', 'door_dent', 'bumper_scratch', 'door_scratch',\n",
       "       'glass_shatter', 'tail_lamp', 'head_lamp', 'bumper_dent'],\n",
       "      dtype='object')"
      ]
     },
     "execution_count": 15,
     "metadata": {},
     "output_type": "execute_result"
    }
   ],
   "source": [
    "categories"
   ]
  },
  {
   "cell_type": "code",
   "execution_count": 21,
   "id": "6fce93ae",
   "metadata": {},
   "outputs": [
    {
     "data": {
      "text/plain": [
       "<PandasArray>\n",
       "[       'unknown',      'door_dent', 'bumper_scratch',   'door_scratch',\n",
       "  'glass_shatter',      'tail_lamp',      'head_lamp',    'bumper_dent']\n",
       "Length: 8, dtype: object"
      ]
     },
     "execution_count": 21,
     "metadata": {},
     "output_type": "execute_result"
    }
   ],
   "source": [
    "categories_name = categories.index.array\n",
    "categories_name"
   ]
  },
  {
   "cell_type": "code",
   "execution_count": 26,
   "id": "5cd3cd79",
   "metadata": {},
   "outputs": [
    {
     "data": {
      "text/plain": [
       "'C:\\\\Users\\\\rames\\\\Desktop'"
      ]
     },
     "execution_count": 26,
     "metadata": {},
     "output_type": "execute_result"
    }
   ],
   "source": [
    "os.getcwd()"
   ]
  },
  {
   "cell_type": "code",
   "execution_count": 99,
   "id": "5778bf3b",
   "metadata": {},
   "outputs": [],
   "source": [
    "parent_dir = 'car_dataset/'\n",
    "for cat in categories_name:\n",
    "    dir = os.path.join(parent_dir, cat)\n",
    "    os.makedirs(dir, exist_ok=True)"
   ]
  },
  {
   "cell_type": "code",
   "execution_count": 58,
   "id": "49536756",
   "metadata": {},
   "outputs": [
    {
     "data": {
      "text/plain": [
       "'0.jpeg'"
      ]
     },
     "execution_count": 58,
     "metadata": {},
     "output_type": "execute_result"
    }
   ],
   "source": [
    "filename = os.listdir('preprocessed/image/')\n",
    "x = filename[0]\n",
    "x"
   ]
  },
  {
   "cell_type": "code",
   "execution_count": 21,
   "id": "fa625b89",
   "metadata": {},
   "outputs": [
    {
     "data": {
      "text/plain": [
       "str"
      ]
     },
     "execution_count": 21,
     "metadata": {},
     "output_type": "execute_result"
    }
   ],
   "source": [
    "src_dir = 'preprocessed/image/'\n",
    "dst_dir = 'car_dataset/'"
   ]
  },
  {
   "cell_type": "code",
   "execution_count": 94,
   "id": "410f70e1",
   "metadata": {},
   "outputs": [
    {
     "data": {
      "text/html": [
       "<div>\n",
       "<style scoped>\n",
       "    .dataframe tbody tr th:only-of-type {\n",
       "        vertical-align: middle;\n",
       "    }\n",
       "\n",
       "    .dataframe tbody tr th {\n",
       "        vertical-align: top;\n",
       "    }\n",
       "\n",
       "    .dataframe thead th {\n",
       "        text-align: right;\n",
       "    }\n",
       "</style>\n",
       "<table border=\"1\" class=\"dataframe\">\n",
       "  <thead>\n",
       "    <tr style=\"text-align: right;\">\n",
       "      <th></th>\n",
       "      <th>image</th>\n",
       "      <th>class</th>\n",
       "      <th>subset</th>\n",
       "    </tr>\n",
       "  </thead>\n",
       "  <tbody>\n",
       "    <tr>\n",
       "      <th>0</th>\n",
       "      <td>image/0.jpeg</td>\n",
       "      <td>unknown</td>\n",
       "      <td>T</td>\n",
       "    </tr>\n",
       "    <tr>\n",
       "      <th>1</th>\n",
       "      <td>image/1.jpeg</td>\n",
       "      <td>head_lamp</td>\n",
       "      <td>T</td>\n",
       "    </tr>\n",
       "    <tr>\n",
       "      <th>2</th>\n",
       "      <td>image/2.jpeg</td>\n",
       "      <td>door_scratch</td>\n",
       "      <td>T</td>\n",
       "    </tr>\n",
       "    <tr>\n",
       "      <th>3</th>\n",
       "      <td>image/3.jpeg</td>\n",
       "      <td>head_lamp</td>\n",
       "      <td>T</td>\n",
       "    </tr>\n",
       "    <tr>\n",
       "      <th>4</th>\n",
       "      <td>image/4.jpeg</td>\n",
       "      <td>unknown</td>\n",
       "      <td>T</td>\n",
       "    </tr>\n",
       "  </tbody>\n",
       "</table>\n",
       "</div>"
      ],
      "text/plain": [
       "          image         class subset\n",
       "0  image/0.jpeg       unknown      T\n",
       "1  image/1.jpeg     head_lamp      T\n",
       "2  image/2.jpeg  door_scratch      T\n",
       "3  image/3.jpeg     head_lamp      T\n",
       "4  image/4.jpeg       unknown      T"
      ]
     },
     "execution_count": 94,
     "metadata": {},
     "output_type": "execute_result"
    }
   ],
   "source": [
    "csv.head()"
   ]
  },
  {
   "cell_type": "code",
   "execution_count": 112,
   "id": "9ae6236e",
   "metadata": {},
   "outputs": [],
   "source": [
    "x = csv['image'].array\n",
    "y = csv['class'].array\n",
    "\n",
    "for i in range(1512):\n",
    "    parent_dir = 'preprocessed/'\n",
    "    file_name = os.path.join(parent_dir, x[i])\n",
    "    dst_name = os.path.join('car_dataset/', y[i])\n",
    "    z = x[i].split('/')[-1]\n",
    "    dst_filename = os.path.join(dst_name, z)\n",
    "    shutil.copyfile(file_name, dst_filename)\n",
    "    "
   ]
  },
  {
   "cell_type": "code",
   "execution_count": 92,
   "id": "2b4d473f",
   "metadata": {},
   "outputs": [
    {
     "data": {
      "text/plain": [
       "'C:\\\\Users\\\\rames\\\\Desktop'"
      ]
     },
     "execution_count": 92,
     "metadata": {},
     "output_type": "execute_result"
    }
   ],
   "source": [
    "os.getcwd()"
   ]
  },
  {
   "cell_type": "code",
   "execution_count": 108,
   "id": "1f2f7e9d",
   "metadata": {},
   "outputs": [
    {
     "data": {
      "text/plain": [
       "'gangwar'"
      ]
     },
     "execution_count": 108,
     "metadata": {},
     "output_type": "execute_result"
    }
   ],
   "source": [
    "a = 'ramesh/gangwar'\n",
    "a.split('/')[-1]"
   ]
  },
  {
   "cell_type": "code",
   "execution_count": null,
   "id": "84330124",
   "metadata": {},
   "outputs": [],
   "source": []
  }
 ],
 "metadata": {
  "kernelspec": {
   "display_name": "Python 3",
   "language": "python",
   "name": "python3"
  },
  "language_info": {
   "codemirror_mode": {
    "name": "ipython",
    "version": 3
   },
   "file_extension": ".py",
   "mimetype": "text/x-python",
   "name": "python",
   "nbconvert_exporter": "python",
   "pygments_lexer": "ipython3",
   "version": "3.8.8"
  }
 },
 "nbformat": 4,
 "nbformat_minor": 5
}

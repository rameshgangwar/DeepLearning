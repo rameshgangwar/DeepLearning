{
 "cells": [
  {
   "cell_type": "markdown",
   "id": "dc739d5c",
   "metadata": {},
   "source": [
    "# Sort Images to The Target Folder.\n",
    "\n",
    "This documents contains code to sort the images according to the attribute described in the accompained csv file.\n",
    "\n",
    "## Problem Statement\n",
    "\n",
    "Suppose you downloaded the data from internet as .zip file. After downloading you extracted the .zip file and found following things in the extracted folder.\n",
    "\n",
    "1. A folder containing images. Make sure the images are in the folder named 'image'. Otherwise change the code as required.\n",
    "2. A CSV file which contains the information about the categoty of the each image with image name. For example, CSV file contains two columns. One column contains image of the image and the second column specifies the category of the each image.\n"
   ]
  },
  {
   "cell_type": "code",
   "execution_count": 1,
   "id": "7f27c2d6",
   "metadata": {},
   "outputs": [],
   "source": [
    "# First import the required libraries\n",
    "\n",
    "import pandas as pd\n",
    "import os\n",
    "import shutil"
   ]
  },
  {
   "cell_type": "code",
   "execution_count": 4,
   "metadata": {},
   "outputs": [
    {
     "name": "stdout",
     "output_type": "stream",
     "text": [
      "['image', 'index.csv', 'info.txt', 'metadata.json']\n"
     ]
    }
   ],
   "source": [
    "path_to_dataset = input('Enter the path to dataset')\n",
    "print(os.listdir(path_to_dataset))"
   ]
  },
  {
   "cell_type": "code",
   "execution_count": 15,
   "id": "bd37262f",
   "metadata": {},
   "outputs": [
    {
     "data": {
      "text/html": [
       "<div>\n",
       "<style scoped>\n",
       "    .dataframe tbody tr th:only-of-type {\n",
       "        vertical-align: middle;\n",
       "    }\n",
       "\n",
       "    .dataframe tbody tr th {\n",
       "        vertical-align: top;\n",
       "    }\n",
       "\n",
       "    .dataframe thead th {\n",
       "        text-align: right;\n",
       "    }\n",
       "</style>\n",
       "<table border=\"1\" class=\"dataframe\">\n",
       "  <thead>\n",
       "    <tr style=\"text-align: right;\">\n",
       "      <th></th>\n",
       "      <th>image</th>\n",
       "      <th>class</th>\n",
       "      <th>subset</th>\n",
       "    </tr>\n",
       "  </thead>\n",
       "  <tbody>\n",
       "    <tr>\n",
       "      <th>0</th>\n",
       "      <td>image/0.jpeg</td>\n",
       "      <td>unknown</td>\n",
       "      <td>T</td>\n",
       "    </tr>\n",
       "    <tr>\n",
       "      <th>1</th>\n",
       "      <td>image/1.jpeg</td>\n",
       "      <td>head_lamp</td>\n",
       "      <td>T</td>\n",
       "    </tr>\n",
       "    <tr>\n",
       "      <th>2</th>\n",
       "      <td>image/2.jpeg</td>\n",
       "      <td>door_scratch</td>\n",
       "      <td>T</td>\n",
       "    </tr>\n",
       "    <tr>\n",
       "      <th>3</th>\n",
       "      <td>image/3.jpeg</td>\n",
       "      <td>head_lamp</td>\n",
       "      <td>T</td>\n",
       "    </tr>\n",
       "    <tr>\n",
       "      <th>4</th>\n",
       "      <td>image/4.jpeg</td>\n",
       "      <td>unknown</td>\n",
       "      <td>T</td>\n",
       "    </tr>\n",
       "    <tr>\n",
       "      <th>5</th>\n",
       "      <td>image/5.jpeg</td>\n",
       "      <td>unknown</td>\n",
       "      <td>T</td>\n",
       "    </tr>\n",
       "    <tr>\n",
       "      <th>6</th>\n",
       "      <td>image/6.jpeg</td>\n",
       "      <td>glass_shatter</td>\n",
       "      <td>T</td>\n",
       "    </tr>\n",
       "    <tr>\n",
       "      <th>7</th>\n",
       "      <td>image/7.jpeg</td>\n",
       "      <td>unknown</td>\n",
       "      <td>T</td>\n",
       "    </tr>\n",
       "    <tr>\n",
       "      <th>8</th>\n",
       "      <td>image/8.jpeg</td>\n",
       "      <td>tail_lamp</td>\n",
       "      <td>T</td>\n",
       "    </tr>\n",
       "    <tr>\n",
       "      <th>9</th>\n",
       "      <td>image/9.jpeg</td>\n",
       "      <td>bumper_dent</td>\n",
       "      <td>T</td>\n",
       "    </tr>\n",
       "  </tbody>\n",
       "</table>\n",
       "</div>"
      ],
      "text/plain": [
       "          image          class subset\n",
       "0  image/0.jpeg        unknown      T\n",
       "1  image/1.jpeg      head_lamp      T\n",
       "2  image/2.jpeg   door_scratch      T\n",
       "3  image/3.jpeg      head_lamp      T\n",
       "4  image/4.jpeg        unknown      T\n",
       "5  image/5.jpeg        unknown      T\n",
       "6  image/6.jpeg  glass_shatter      T\n",
       "7  image/7.jpeg        unknown      T\n",
       "8  image/8.jpeg      tail_lamp      T\n",
       "9  image/9.jpeg    bumper_dent      T"
      ]
     },
     "execution_count": 15,
     "metadata": {},
     "output_type": "execute_result"
    }
   ],
   "source": [
    "# Import the CSV file. The CSV file contains the image names and the labels.\n",
    "# Please enter the name of the csv file. For Example: index.csv\n",
    "image_folder_name = input('Enter the name of the image folder')\n",
    "csv_name = input('Enter the name of the csv file')\n",
    "csv_path = os.path.join(path_to_dataset, csv_name)\n",
    "csv = pd.read_csv(csv_path)\n",
    "csv.head(10)"
   ]
  },
  {
   "cell_type": "code",
   "execution_count": 21,
   "id": "68b5e4dc",
   "metadata": {},
   "outputs": [
    {
     "name": "stdout",
     "output_type": "stream",
     "text": [
      "Number of rows in the CSV file:  1594\n",
      "Number of images in the image folder:  1512\n"
     ]
    }
   ],
   "source": [
    "items_csv = len(csv)\n",
    "print('Number of rows in the CSV file: ', items_csv)\n",
    "item_images = len(os.listdir(os.path.join(path_to_dataset, image_folder_name)))\n",
    "print('Number of images in the image folder: ', item_images)"
   ]
  },
  {
   "cell_type": "code",
   "execution_count": 27,
   "id": "2f0aebfb",
   "metadata": {},
   "outputs": [
    {
     "data": {
      "text/plain": [
       "unknown           549\n",
       "door_dent         192\n",
       "bumper_scratch    164\n",
       "door_scratch      154\n",
       "glass_shatter     137\n",
       "tail_lamp         136\n",
       "head_lamp         133\n",
       "bumper_dent       129\n",
       "Name: class, dtype: int64"
      ]
     },
     "execution_count": 27,
     "metadata": {},
     "output_type": "execute_result"
    }
   ],
   "source": [
    "categories = csv['class'].value_counts()\n",
    "categories"
   ]
  },
  {
   "cell_type": "code",
   "execution_count": 28,
   "id": "6fce93ae",
   "metadata": {},
   "outputs": [
    {
     "data": {
      "text/plain": [
       "<PandasArray>\n",
       "[       'unknown',      'door_dent', 'bumper_scratch',   'door_scratch',\n",
       "  'glass_shatter',      'tail_lamp',      'head_lamp',    'bumper_dent']\n",
       "Length: 8, dtype: object"
      ]
     },
     "execution_count": 28,
     "metadata": {},
     "output_type": "execute_result"
    }
   ],
   "source": [
    "categories_name = categories.index.array\n",
    "categories_name"
   ]
  },
  {
   "cell_type": "code",
   "execution_count": 32,
   "id": "5778bf3b",
   "metadata": {},
   "outputs": [],
   "source": [
    "# Create a directory for each category inside the target folder.\n",
    "\n",
    "path_to_target_folder = input('Enter the path to target folder')\n",
    "\n",
    "for cat in categories_name:\n",
    "    dir = os.path.join(path_to_target_folder, cat)\n",
    "    os.makedirs(dir, exist_ok=True)"
   ]
  },
  {
   "cell_type": "code",
   "execution_count": 49,
   "id": "fa625b89",
   "metadata": {},
   "outputs": [
    {
     "data": {
      "text/plain": [
       "'C:\\\\Users\\\\rames\\\\Desktop\\\\sorted_dataset'"
      ]
     },
     "execution_count": 49,
     "metadata": {},
     "output_type": "execute_result"
    }
   ],
   "source": [
    "src_dir = os.path.join(path_to_dataset, image_folder_name)\n",
    "dst_dir = path_to_target_folder\n"
   ]
  },
  {
   "cell_type": "code",
   "execution_count": 72,
   "id": "9ae6236e",
   "metadata": {},
   "outputs": [],
   "source": [
    "x = csv['image'].array\n",
    "y = csv['class'].array\n",
    "\n",
    "for i in range(min(item_images, items_csv)):\n",
    "    parent_dir = 'preprocessed/'\n",
    "    file_name = os.path.join(path_to_dataset, x[i])\n",
    "    dst_name = os.path.join(path_to_target_folder, y[i])\n",
    "    z = x[i].split('/')[-1]\n",
    "    dst_filename = os.path.join(dst_name, z)\n",
    "    shutil.copyfile(file_name, dst_filename)\n",
    "    "
   ]
  },
  {
   "cell_type": "markdown",
   "metadata": {},
   "source": [
    "# Thank You!"
   ]
  }
 ],
 "metadata": {
  "interpreter": {
   "hash": "183d5bd13557a8b3d9f727325a71e0a208cd60a82917a0161417648bddba3df9"
  },
  "kernelspec": {
   "display_name": "Python 3.8.8 64-bit ('tf': conda)",
   "name": "python3"
  },
  "language_info": {
   "codemirror_mode": {
    "name": "ipython",
    "version": 3
   },
   "file_extension": ".py",
   "mimetype": "text/x-python",
   "name": "python",
   "nbconvert_exporter": "python",
   "pygments_lexer": "ipython3",
   "version": "3.8.8"
  }
 },
 "nbformat": 4,
 "nbformat_minor": 5
}
